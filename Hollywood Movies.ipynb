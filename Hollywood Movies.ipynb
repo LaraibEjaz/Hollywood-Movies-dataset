{
 "cells": [
  {
   "cell_type": "markdown",
   "id": "114dcc4a-1208-4827-9fbb-d4ade781d130",
   "metadata": {},
   "source": [
    "# DATA ANALYSIS WITH PANDAS"
   ]
  },
  {
   "cell_type": "markdown",
   "id": "c620ebfb-85ef-4b9e-aed0-c2b5a3f4545e",
   "metadata": {},
   "source": [
    "# HOLLYWOOD MOVIES DATASET"
   ]
  },
  {
   "cell_type": "code",
   "execution_count": 1,
   "id": "fbc36862-3a88-41d6-b201-04316b375fb4",
   "metadata": {},
   "outputs": [],
   "source": [
    "import pandas as pd\n",
    "import numpy as np\n",
    "import matplotlib as plt\n",
    "import seaborn as sns"
   ]
  },
  {
   "cell_type": "code",
   "execution_count": 2,
   "id": "f084be74-9df7-4826-8c95-7f7684577140",
   "metadata": {},
   "outputs": [
    {
     "name": "stderr",
     "output_type": "stream",
     "text": [
      "<>:1: SyntaxWarning: invalid escape sequence '\\H'\n",
      "<>:1: SyntaxWarning: invalid escape sequence '\\H'\n",
      "C:\\Users\\Laraib\\AppData\\Local\\Temp\\ipykernel_12592\\4140416126.py:1: SyntaxWarning: invalid escape sequence '\\H'\n",
      "  data = pd.read_csv('D:\\HollywoodMovies.csv')\n"
     ]
    }
   ],
   "source": [
    "data = pd.read_csv('D:\\HollywoodMovies.csv')\n"
   ]
  },
  {
   "cell_type": "code",
   "execution_count": 3,
   "id": "0ace2943-5337-4cfb-b73e-e0ce467fe8b8",
   "metadata": {},
   "outputs": [
    {
     "data": {
      "text/html": [
       "<div>\n",
       "<style scoped>\n",
       "    .dataframe tbody tr th:only-of-type {\n",
       "        vertical-align: middle;\n",
       "    }\n",
       "\n",
       "    .dataframe tbody tr th {\n",
       "        vertical-align: top;\n",
       "    }\n",
       "\n",
       "    .dataframe thead th {\n",
       "        text-align: right;\n",
       "    }\n",
       "</style>\n",
       "<table border=\"1\" class=\"dataframe\">\n",
       "  <thead>\n",
       "    <tr style=\"text-align: right;\">\n",
       "      <th></th>\n",
       "      <th>Movie</th>\n",
       "      <th>LeadStudio</th>\n",
       "      <th>RottenTomatoes</th>\n",
       "      <th>AudienceScore</th>\n",
       "      <th>Story</th>\n",
       "      <th>Genre</th>\n",
       "      <th>TheatersOpenWeek</th>\n",
       "      <th>OpeningWeekend</th>\n",
       "      <th>BOAvgOpenWeekend</th>\n",
       "      <th>DomesticGross</th>\n",
       "      <th>ForeignGross</th>\n",
       "      <th>WorldGross</th>\n",
       "      <th>Budget</th>\n",
       "      <th>Profitability</th>\n",
       "      <th>OpenProfit</th>\n",
       "      <th>Year</th>\n",
       "    </tr>\n",
       "  </thead>\n",
       "  <tbody>\n",
       "    <tr>\n",
       "      <th>0</th>\n",
       "      <td>Spider-Man 3</td>\n",
       "      <td>Sony</td>\n",
       "      <td>61.0</td>\n",
       "      <td>54.0</td>\n",
       "      <td>Metamorphosis</td>\n",
       "      <td>Action</td>\n",
       "      <td>4252.0</td>\n",
       "      <td>151.1</td>\n",
       "      <td>35540.0</td>\n",
       "      <td>336.53</td>\n",
       "      <td>554.34</td>\n",
       "      <td>890.87</td>\n",
       "      <td>258.0</td>\n",
       "      <td>345.30</td>\n",
       "      <td>58.57</td>\n",
       "      <td>2007</td>\n",
       "    </tr>\n",
       "    <tr>\n",
       "      <th>1</th>\n",
       "      <td>Shrek the Third</td>\n",
       "      <td>Paramount</td>\n",
       "      <td>42.0</td>\n",
       "      <td>57.0</td>\n",
       "      <td>Quest</td>\n",
       "      <td>Animation</td>\n",
       "      <td>4122.0</td>\n",
       "      <td>121.6</td>\n",
       "      <td>29507.0</td>\n",
       "      <td>322.72</td>\n",
       "      <td>476.24</td>\n",
       "      <td>798.96</td>\n",
       "      <td>160.0</td>\n",
       "      <td>499.35</td>\n",
       "      <td>76.00</td>\n",
       "      <td>2007</td>\n",
       "    </tr>\n",
       "    <tr>\n",
       "      <th>2</th>\n",
       "      <td>Transformers</td>\n",
       "      <td>Paramount</td>\n",
       "      <td>57.0</td>\n",
       "      <td>89.0</td>\n",
       "      <td>Monster Force</td>\n",
       "      <td>Action</td>\n",
       "      <td>4011.0</td>\n",
       "      <td>70.5</td>\n",
       "      <td>17577.0</td>\n",
       "      <td>319.25</td>\n",
       "      <td>390.46</td>\n",
       "      <td>709.71</td>\n",
       "      <td>150.0</td>\n",
       "      <td>473.14</td>\n",
       "      <td>47.00</td>\n",
       "      <td>2007</td>\n",
       "    </tr>\n",
       "    <tr>\n",
       "      <th>3</th>\n",
       "      <td>Pirates of the Caribbean: At World's End</td>\n",
       "      <td>Disney</td>\n",
       "      <td>45.0</td>\n",
       "      <td>74.0</td>\n",
       "      <td>Rescue</td>\n",
       "      <td>Action</td>\n",
       "      <td>4362.0</td>\n",
       "      <td>114.7</td>\n",
       "      <td>26302.0</td>\n",
       "      <td>309.42</td>\n",
       "      <td>654.00</td>\n",
       "      <td>963.42</td>\n",
       "      <td>300.0</td>\n",
       "      <td>321.14</td>\n",
       "      <td>38.23</td>\n",
       "      <td>2007</td>\n",
       "    </tr>\n",
       "    <tr>\n",
       "      <th>4</th>\n",
       "      <td>Harry Potter and the Order of the Phoenix</td>\n",
       "      <td>Warner Bros</td>\n",
       "      <td>78.0</td>\n",
       "      <td>82.0</td>\n",
       "      <td>Quest</td>\n",
       "      <td>Adventure</td>\n",
       "      <td>4285.0</td>\n",
       "      <td>77.1</td>\n",
       "      <td>17998.0</td>\n",
       "      <td>292.00</td>\n",
       "      <td>647.88</td>\n",
       "      <td>939.89</td>\n",
       "      <td>150.0</td>\n",
       "      <td>626.59</td>\n",
       "      <td>51.40</td>\n",
       "      <td>2007</td>\n",
       "    </tr>\n",
       "    <tr>\n",
       "      <th>5</th>\n",
       "      <td>I Am Legend</td>\n",
       "      <td>Warner Bros</td>\n",
       "      <td>69.0</td>\n",
       "      <td>69.0</td>\n",
       "      <td>Quest</td>\n",
       "      <td>Thriller</td>\n",
       "      <td>3606.0</td>\n",
       "      <td>77.2</td>\n",
       "      <td>21411.0</td>\n",
       "      <td>256.39</td>\n",
       "      <td>328.96</td>\n",
       "      <td>585.35</td>\n",
       "      <td>150.0</td>\n",
       "      <td>390.23</td>\n",
       "      <td>51.47</td>\n",
       "      <td>2007</td>\n",
       "    </tr>\n",
       "    <tr>\n",
       "      <th>6</th>\n",
       "      <td>The Bourne Ultimatum</td>\n",
       "      <td>Universal</td>\n",
       "      <td>93.0</td>\n",
       "      <td>91.0</td>\n",
       "      <td>Pursuit</td>\n",
       "      <td>Thriller</td>\n",
       "      <td>3660.0</td>\n",
       "      <td>69.3</td>\n",
       "      <td>18929.0</td>\n",
       "      <td>227.47</td>\n",
       "      <td>215.35</td>\n",
       "      <td>442.82</td>\n",
       "      <td>110.0</td>\n",
       "      <td>402.57</td>\n",
       "      <td>63.00</td>\n",
       "      <td>2007</td>\n",
       "    </tr>\n",
       "    <tr>\n",
       "      <th>7</th>\n",
       "      <td>National Treasure: Book of Secrets</td>\n",
       "      <td>Disney</td>\n",
       "      <td>31.0</td>\n",
       "      <td>72.0</td>\n",
       "      <td>The Riddle</td>\n",
       "      <td>Thriller</td>\n",
       "      <td>3832.0</td>\n",
       "      <td>44.8</td>\n",
       "      <td>11686.0</td>\n",
       "      <td>219.96</td>\n",
       "      <td>237.40</td>\n",
       "      <td>457.36</td>\n",
       "      <td>130.0</td>\n",
       "      <td>351.82</td>\n",
       "      <td>34.46</td>\n",
       "      <td>2007</td>\n",
       "    </tr>\n",
       "    <tr>\n",
       "      <th>8</th>\n",
       "      <td>Alvin and the Chipmunks</td>\n",
       "      <td>Fox</td>\n",
       "      <td>26.0</td>\n",
       "      <td>73.0</td>\n",
       "      <td>Comedy</td>\n",
       "      <td>Animation</td>\n",
       "      <td>3475.0</td>\n",
       "      <td>44.3</td>\n",
       "      <td>12750.0</td>\n",
       "      <td>217.33</td>\n",
       "      <td>144.01</td>\n",
       "      <td>361.34</td>\n",
       "      <td>70.0</td>\n",
       "      <td>516.19</td>\n",
       "      <td>63.29</td>\n",
       "      <td>2007</td>\n",
       "    </tr>\n",
       "    <tr>\n",
       "      <th>9</th>\n",
       "      <td>300</td>\n",
       "      <td>Warner Bros</td>\n",
       "      <td>60.0</td>\n",
       "      <td>90.0</td>\n",
       "      <td>Sacrifice</td>\n",
       "      <td>Action</td>\n",
       "      <td>3103.0</td>\n",
       "      <td>70.9</td>\n",
       "      <td>22844.0</td>\n",
       "      <td>210.61</td>\n",
       "      <td>245.45</td>\n",
       "      <td>456.07</td>\n",
       "      <td>65.0</td>\n",
       "      <td>701.64</td>\n",
       "      <td>109.08</td>\n",
       "      <td>2007</td>\n",
       "    </tr>\n",
       "  </tbody>\n",
       "</table>\n",
       "</div>"
      ],
      "text/plain": [
       "                                       Movie   LeadStudio  RottenTomatoes  \\\n",
       "0                               Spider-Man 3         Sony            61.0   \n",
       "1                            Shrek the Third    Paramount            42.0   \n",
       "2                               Transformers    Paramount            57.0   \n",
       "3   Pirates of the Caribbean: At World's End       Disney            45.0   \n",
       "4  Harry Potter and the Order of the Phoenix  Warner Bros            78.0   \n",
       "5                                I Am Legend  Warner Bros            69.0   \n",
       "6                       The Bourne Ultimatum    Universal            93.0   \n",
       "7         National Treasure: Book of Secrets       Disney            31.0   \n",
       "8                    Alvin and the Chipmunks          Fox            26.0   \n",
       "9                                        300  Warner Bros            60.0   \n",
       "\n",
       "   AudienceScore          Story      Genre  TheatersOpenWeek  OpeningWeekend  \\\n",
       "0           54.0  Metamorphosis     Action            4252.0           151.1   \n",
       "1           57.0          Quest  Animation            4122.0           121.6   \n",
       "2           89.0  Monster Force     Action            4011.0            70.5   \n",
       "3           74.0         Rescue     Action            4362.0           114.7   \n",
       "4           82.0          Quest  Adventure            4285.0            77.1   \n",
       "5           69.0          Quest   Thriller            3606.0            77.2   \n",
       "6           91.0        Pursuit   Thriller            3660.0            69.3   \n",
       "7           72.0     The Riddle   Thriller            3832.0            44.8   \n",
       "8           73.0         Comedy  Animation            3475.0            44.3   \n",
       "9           90.0      Sacrifice     Action            3103.0            70.9   \n",
       "\n",
       "   BOAvgOpenWeekend  DomesticGross  ForeignGross  WorldGross  Budget  \\\n",
       "0           35540.0         336.53        554.34      890.87   258.0   \n",
       "1           29507.0         322.72        476.24      798.96   160.0   \n",
       "2           17577.0         319.25        390.46      709.71   150.0   \n",
       "3           26302.0         309.42        654.00      963.42   300.0   \n",
       "4           17998.0         292.00        647.88      939.89   150.0   \n",
       "5           21411.0         256.39        328.96      585.35   150.0   \n",
       "6           18929.0         227.47        215.35      442.82   110.0   \n",
       "7           11686.0         219.96        237.40      457.36   130.0   \n",
       "8           12750.0         217.33        144.01      361.34    70.0   \n",
       "9           22844.0         210.61        245.45      456.07    65.0   \n",
       "\n",
       "   Profitability  OpenProfit  Year  \n",
       "0         345.30       58.57  2007  \n",
       "1         499.35       76.00  2007  \n",
       "2         473.14       47.00  2007  \n",
       "3         321.14       38.23  2007  \n",
       "4         626.59       51.40  2007  \n",
       "5         390.23       51.47  2007  \n",
       "6         402.57       63.00  2007  \n",
       "7         351.82       34.46  2007  \n",
       "8         516.19       63.29  2007  \n",
       "9         701.64      109.08  2007  "
      ]
     },
     "execution_count": 3,
     "metadata": {},
     "output_type": "execute_result"
    }
   ],
   "source": [
    "data.head(10)"
   ]
  },
  {
   "cell_type": "code",
   "execution_count": 4,
   "id": "1089d26f-62c0-46cf-8dc6-0edbb5b9adb6",
   "metadata": {},
   "outputs": [
    {
     "data": {
      "text/html": [
       "<div>\n",
       "<style scoped>\n",
       "    .dataframe tbody tr th:only-of-type {\n",
       "        vertical-align: middle;\n",
       "    }\n",
       "\n",
       "    .dataframe tbody tr th {\n",
       "        vertical-align: top;\n",
       "    }\n",
       "\n",
       "    .dataframe thead th {\n",
       "        text-align: right;\n",
       "    }\n",
       "</style>\n",
       "<table border=\"1\" class=\"dataframe\">\n",
       "  <thead>\n",
       "    <tr style=\"text-align: right;\">\n",
       "      <th></th>\n",
       "      <th>Movie</th>\n",
       "      <th>LeadStudio</th>\n",
       "      <th>RottenTomatoes</th>\n",
       "      <th>AudienceScore</th>\n",
       "      <th>Story</th>\n",
       "      <th>Genre</th>\n",
       "      <th>TheatersOpenWeek</th>\n",
       "      <th>OpeningWeekend</th>\n",
       "      <th>BOAvgOpenWeekend</th>\n",
       "      <th>DomesticGross</th>\n",
       "      <th>ForeignGross</th>\n",
       "      <th>WorldGross</th>\n",
       "      <th>Budget</th>\n",
       "      <th>Profitability</th>\n",
       "      <th>OpenProfit</th>\n",
       "      <th>Year</th>\n",
       "    </tr>\n",
       "  </thead>\n",
       "  <tbody>\n",
       "    <tr>\n",
       "      <th>960</th>\n",
       "      <td>The Iceman</td>\n",
       "      <td>Millenium Entertainment</td>\n",
       "      <td>66.0</td>\n",
       "      <td>63.0</td>\n",
       "      <td>NaN</td>\n",
       "      <td>NaN</td>\n",
       "      <td>258.0</td>\n",
       "      <td>0.09</td>\n",
       "      <td>341.0</td>\n",
       "      <td>1.97</td>\n",
       "      <td>NaN</td>\n",
       "      <td>1.97</td>\n",
       "      <td>10.0</td>\n",
       "      <td>19.69</td>\n",
       "      <td>0.90</td>\n",
       "      <td>2013</td>\n",
       "    </tr>\n",
       "    <tr>\n",
       "      <th>961</th>\n",
       "      <td>Girl Most Likely</td>\n",
       "      <td>Roadside Attractions</td>\n",
       "      <td>20.0</td>\n",
       "      <td>35.0</td>\n",
       "      <td>NaN</td>\n",
       "      <td>NaN</td>\n",
       "      <td>351.0</td>\n",
       "      <td>0.69</td>\n",
       "      <td>1978.0</td>\n",
       "      <td>1.38</td>\n",
       "      <td>NaN</td>\n",
       "      <td>1.38</td>\n",
       "      <td>60.0</td>\n",
       "      <td>2.30</td>\n",
       "      <td>1.15</td>\n",
       "      <td>2013</td>\n",
       "    </tr>\n",
       "    <tr>\n",
       "      <th>962</th>\n",
       "      <td>Wadjda</td>\n",
       "      <td>Sony</td>\n",
       "      <td>99.0</td>\n",
       "      <td>89.0</td>\n",
       "      <td>NaN</td>\n",
       "      <td>NaN</td>\n",
       "      <td>87.0</td>\n",
       "      <td>0.04</td>\n",
       "      <td>474.0</td>\n",
       "      <td>1.35</td>\n",
       "      <td>NaN</td>\n",
       "      <td>1.35</td>\n",
       "      <td>NaN</td>\n",
       "      <td>539.10</td>\n",
       "      <td>NaN</td>\n",
       "      <td>2013</td>\n",
       "    </tr>\n",
       "    <tr>\n",
       "      <th>963</th>\n",
       "      <td>Much Ado About Nothing</td>\n",
       "      <td>Roadside Attractions</td>\n",
       "      <td>84.0</td>\n",
       "      <td>78.0</td>\n",
       "      <td>NaN</td>\n",
       "      <td>NaN</td>\n",
       "      <td>222.0</td>\n",
       "      <td>0.17</td>\n",
       "      <td>775.0</td>\n",
       "      <td>4.33</td>\n",
       "      <td>NaN</td>\n",
       "      <td>NaN</td>\n",
       "      <td>NaN</td>\n",
       "      <td>NaN</td>\n",
       "      <td>NaN</td>\n",
       "      <td>2013</td>\n",
       "    </tr>\n",
       "    <tr>\n",
       "      <th>964</th>\n",
       "      <td>The Butler</td>\n",
       "      <td>Weinstein</td>\n",
       "      <td>73.0</td>\n",
       "      <td>79.0</td>\n",
       "      <td>NaN</td>\n",
       "      <td>NaN</td>\n",
       "      <td>2933.0</td>\n",
       "      <td>24.64</td>\n",
       "      <td>8400.0</td>\n",
       "      <td>116.63</td>\n",
       "      <td>51.11</td>\n",
       "      <td>167.74</td>\n",
       "      <td>30.0</td>\n",
       "      <td>559.14</td>\n",
       "      <td>82.13</td>\n",
       "      <td>2013</td>\n",
       "    </tr>\n",
       "    <tr>\n",
       "      <th>965</th>\n",
       "      <td>The Canyons</td>\n",
       "      <td>IFC</td>\n",
       "      <td>22.0</td>\n",
       "      <td>NaN</td>\n",
       "      <td>NaN</td>\n",
       "      <td>NaN</td>\n",
       "      <td>1.0</td>\n",
       "      <td>0.01</td>\n",
       "      <td>13351.0</td>\n",
       "      <td>0.06</td>\n",
       "      <td>0.14</td>\n",
       "      <td>0.19</td>\n",
       "      <td>NaN</td>\n",
       "      <td>77.21</td>\n",
       "      <td>NaN</td>\n",
       "      <td>2013</td>\n",
       "    </tr>\n",
       "    <tr>\n",
       "      <th>966</th>\n",
       "      <td>The Call</td>\n",
       "      <td>TriStar</td>\n",
       "      <td>43.0</td>\n",
       "      <td>66.0</td>\n",
       "      <td>NaN</td>\n",
       "      <td>NaN</td>\n",
       "      <td>2507.0</td>\n",
       "      <td>17.12</td>\n",
       "      <td>6828.0</td>\n",
       "      <td>51.87</td>\n",
       "      <td>16.70</td>\n",
       "      <td>68.57</td>\n",
       "      <td>13.0</td>\n",
       "      <td>527.48</td>\n",
       "      <td>131.69</td>\n",
       "      <td>2013</td>\n",
       "    </tr>\n",
       "    <tr>\n",
       "      <th>967</th>\n",
       "      <td>The English Teacher</td>\n",
       "      <td>Cinedigm Entertainment</td>\n",
       "      <td>42.0</td>\n",
       "      <td>NaN</td>\n",
       "      <td>NaN</td>\n",
       "      <td>NaN</td>\n",
       "      <td>2.0</td>\n",
       "      <td>0.01</td>\n",
       "      <td>3001.0</td>\n",
       "      <td>0.10</td>\n",
       "      <td>0.06</td>\n",
       "      <td>0.10</td>\n",
       "      <td>NaN</td>\n",
       "      <td>NaN</td>\n",
       "      <td>NaN</td>\n",
       "      <td>2013</td>\n",
       "    </tr>\n",
       "    <tr>\n",
       "      <th>968</th>\n",
       "      <td>John Dies at the End</td>\n",
       "      <td>Magnolia</td>\n",
       "      <td>61.0</td>\n",
       "      <td>53.0</td>\n",
       "      <td>NaN</td>\n",
       "      <td>NaN</td>\n",
       "      <td>1.0</td>\n",
       "      <td>0.01</td>\n",
       "      <td>12467.0</td>\n",
       "      <td>0.14</td>\n",
       "      <td>NaN</td>\n",
       "      <td>0.14</td>\n",
       "      <td>1.0</td>\n",
       "      <td>14.20</td>\n",
       "      <td>1.00</td>\n",
       "      <td>2013</td>\n",
       "    </tr>\n",
       "    <tr>\n",
       "      <th>969</th>\n",
       "      <td>Lovelace</td>\n",
       "      <td>Radius-TWC</td>\n",
       "      <td>55.0</td>\n",
       "      <td>37.0</td>\n",
       "      <td>NaN</td>\n",
       "      <td>Biography</td>\n",
       "      <td>118.0</td>\n",
       "      <td>0.18</td>\n",
       "      <td>1564.0</td>\n",
       "      <td>0.36</td>\n",
       "      <td>1.17</td>\n",
       "      <td>1.52</td>\n",
       "      <td>10.0</td>\n",
       "      <td>15.25</td>\n",
       "      <td>1.80</td>\n",
       "      <td>2013</td>\n",
       "    </tr>\n",
       "  </tbody>\n",
       "</table>\n",
       "</div>"
      ],
      "text/plain": [
       "                      Movie               LeadStudio  RottenTomatoes  \\\n",
       "960              The Iceman  Millenium Entertainment            66.0   \n",
       "961        Girl Most Likely     Roadside Attractions            20.0   \n",
       "962                  Wadjda                     Sony            99.0   \n",
       "963  Much Ado About Nothing     Roadside Attractions            84.0   \n",
       "964              The Butler                Weinstein            73.0   \n",
       "965             The Canyons                      IFC            22.0   \n",
       "966                The Call                  TriStar            43.0   \n",
       "967     The English Teacher   Cinedigm Entertainment            42.0   \n",
       "968    John Dies at the End                 Magnolia            61.0   \n",
       "969                Lovelace               Radius-TWC            55.0   \n",
       "\n",
       "     AudienceScore Story      Genre  TheatersOpenWeek  OpeningWeekend  \\\n",
       "960           63.0   NaN        NaN             258.0            0.09   \n",
       "961           35.0   NaN        NaN             351.0            0.69   \n",
       "962           89.0   NaN        NaN              87.0            0.04   \n",
       "963           78.0   NaN        NaN             222.0            0.17   \n",
       "964           79.0   NaN        NaN            2933.0           24.64   \n",
       "965            NaN   NaN        NaN               1.0            0.01   \n",
       "966           66.0   NaN        NaN            2507.0           17.12   \n",
       "967            NaN   NaN        NaN               2.0            0.01   \n",
       "968           53.0   NaN        NaN               1.0            0.01   \n",
       "969           37.0   NaN  Biography             118.0            0.18   \n",
       "\n",
       "     BOAvgOpenWeekend  DomesticGross  ForeignGross  WorldGross  Budget  \\\n",
       "960             341.0           1.97           NaN        1.97    10.0   \n",
       "961            1978.0           1.38           NaN        1.38    60.0   \n",
       "962             474.0           1.35           NaN        1.35     NaN   \n",
       "963             775.0           4.33           NaN         NaN     NaN   \n",
       "964            8400.0         116.63         51.11      167.74    30.0   \n",
       "965           13351.0           0.06          0.14        0.19     NaN   \n",
       "966            6828.0          51.87         16.70       68.57    13.0   \n",
       "967            3001.0           0.10          0.06        0.10     NaN   \n",
       "968           12467.0           0.14           NaN        0.14     1.0   \n",
       "969            1564.0           0.36          1.17        1.52    10.0   \n",
       "\n",
       "     Profitability  OpenProfit  Year  \n",
       "960          19.69        0.90  2013  \n",
       "961           2.30        1.15  2013  \n",
       "962         539.10         NaN  2013  \n",
       "963            NaN         NaN  2013  \n",
       "964         559.14       82.13  2013  \n",
       "965          77.21         NaN  2013  \n",
       "966         527.48      131.69  2013  \n",
       "967            NaN         NaN  2013  \n",
       "968          14.20        1.00  2013  \n",
       "969          15.25        1.80  2013  "
      ]
     },
     "execution_count": 4,
     "metadata": {},
     "output_type": "execute_result"
    }
   ],
   "source": [
    "data.tail(10)"
   ]
  },
  {
   "cell_type": "code",
   "execution_count": 5,
   "id": "7b6bb52f-a013-4acc-99ab-cc346ff9ca32",
   "metadata": {},
   "outputs": [
    {
     "name": "stdout",
     "output_type": "stream",
     "text": [
      "<class 'pandas.core.frame.DataFrame'>\n",
      "RangeIndex: 970 entries, 0 to 969\n",
      "Data columns (total 16 columns):\n",
      " #   Column            Non-Null Count  Dtype  \n",
      "---  ------            --------------  -----  \n",
      " 0   Movie             970 non-null    object \n",
      " 1   LeadStudio        961 non-null    object \n",
      " 2   RottenTomatoes    913 non-null    float64\n",
      " 3   AudienceScore     907 non-null    float64\n",
      " 4   Story             641 non-null    object \n",
      " 5   Genre             691 non-null    object \n",
      " 6   TheatersOpenWeek  949 non-null    float64\n",
      " 7   OpeningWeekend    969 non-null    float64\n",
      " 8   BOAvgOpenWeekend  945 non-null    float64\n",
      " 9   DomesticGross     970 non-null    float64\n",
      " 10  ForeignGross      876 non-null    float64\n",
      " 11  WorldGross        914 non-null    float64\n",
      " 12  Budget            897 non-null    float64\n",
      " 13  Profitability     896 non-null    float64\n",
      " 14  OpenProfit        895 non-null    float64\n",
      " 15  Year              970 non-null    int64  \n",
      "dtypes: float64(11), int64(1), object(4)\n",
      "memory usage: 121.4+ KB\n"
     ]
    }
   ],
   "source": [
    "data.info()"
   ]
  },
  {
   "cell_type": "code",
   "execution_count": 6,
   "id": "7fd4c62b-54a7-489f-8771-38a5a98a6dde",
   "metadata": {},
   "outputs": [
    {
     "data": {
      "text/plain": [
       "970"
      ]
     },
     "execution_count": 6,
     "metadata": {},
     "output_type": "execute_result"
    }
   ],
   "source": [
    "data.shape[0]"
   ]
  },
  {
   "cell_type": "code",
   "execution_count": 7,
   "id": "4fe9b3f5-ea29-40ee-82c3-a24f6bb910a3",
   "metadata": {},
   "outputs": [
    {
     "data": {
      "text/plain": [
       "16"
      ]
     },
     "execution_count": 7,
     "metadata": {},
     "output_type": "execute_result"
    }
   ],
   "source": [
    "data.shape[1]"
   ]
  },
  {
   "cell_type": "code",
   "execution_count": 8,
   "id": "121eab07-2abc-492c-9f9b-1f111eb2c4e8",
   "metadata": {},
   "outputs": [
    {
     "data": {
      "text/html": [
       "<div>\n",
       "<style scoped>\n",
       "    .dataframe tbody tr th:only-of-type {\n",
       "        vertical-align: middle;\n",
       "    }\n",
       "\n",
       "    .dataframe tbody tr th {\n",
       "        vertical-align: top;\n",
       "    }\n",
       "\n",
       "    .dataframe thead th {\n",
       "        text-align: right;\n",
       "    }\n",
       "</style>\n",
       "<table border=\"1\" class=\"dataframe\">\n",
       "  <thead>\n",
       "    <tr style=\"text-align: right;\">\n",
       "      <th></th>\n",
       "      <th>RottenTomatoes</th>\n",
       "      <th>AudienceScore</th>\n",
       "      <th>TheatersOpenWeek</th>\n",
       "      <th>OpeningWeekend</th>\n",
       "      <th>BOAvgOpenWeekend</th>\n",
       "      <th>DomesticGross</th>\n",
       "      <th>ForeignGross</th>\n",
       "      <th>WorldGross</th>\n",
       "      <th>Budget</th>\n",
       "      <th>Profitability</th>\n",
       "      <th>OpenProfit</th>\n",
       "      <th>Year</th>\n",
       "    </tr>\n",
       "  </thead>\n",
       "  <tbody>\n",
       "    <tr>\n",
       "      <th>count</th>\n",
       "      <td>913.000000</td>\n",
       "      <td>907.000000</td>\n",
       "      <td>949.000000</td>\n",
       "      <td>969.000000</td>\n",
       "      <td>945.000000</td>\n",
       "      <td>970.000000</td>\n",
       "      <td>876.000000</td>\n",
       "      <td>914.000000</td>\n",
       "      <td>897.000000</td>\n",
       "      <td>896.000000</td>\n",
       "      <td>895.000000</td>\n",
       "      <td>970.000000</td>\n",
       "    </tr>\n",
       "    <tr>\n",
       "      <th>mean</th>\n",
       "      <td>51.707558</td>\n",
       "      <td>61.271224</td>\n",
       "      <td>2495.246575</td>\n",
       "      <td>20.620826</td>\n",
       "      <td>8562.593651</td>\n",
       "      <td>68.162544</td>\n",
       "      <td>101.237419</td>\n",
       "      <td>169.009945</td>\n",
       "      <td>56.117168</td>\n",
       "      <td>384.620100</td>\n",
       "      <td>62.223575</td>\n",
       "      <td>2010.236082</td>\n",
       "    </tr>\n",
       "    <tr>\n",
       "      <th>std</th>\n",
       "      <td>26.821268</td>\n",
       "      <td>16.602457</td>\n",
       "      <td>1164.223356</td>\n",
       "      <td>25.338689</td>\n",
       "      <td>10645.135565</td>\n",
       "      <td>80.409969</td>\n",
       "      <td>155.987696</td>\n",
       "      <td>227.744380</td>\n",
       "      <td>53.755914</td>\n",
       "      <td>631.666012</td>\n",
       "      <td>159.713218</td>\n",
       "      <td>1.954840</td>\n",
       "    </tr>\n",
       "    <tr>\n",
       "      <th>min</th>\n",
       "      <td>0.000000</td>\n",
       "      <td>19.000000</td>\n",
       "      <td>1.000000</td>\n",
       "      <td>0.010000</td>\n",
       "      <td>28.000000</td>\n",
       "      <td>0.060000</td>\n",
       "      <td>0.000000</td>\n",
       "      <td>0.100000</td>\n",
       "      <td>0.000000</td>\n",
       "      <td>2.300000</td>\n",
       "      <td>0.160000</td>\n",
       "      <td>2007.000000</td>\n",
       "    </tr>\n",
       "    <tr>\n",
       "      <th>25%</th>\n",
       "      <td>28.000000</td>\n",
       "      <td>49.000000</td>\n",
       "      <td>2054.000000</td>\n",
       "      <td>5.300000</td>\n",
       "      <td>3528.000000</td>\n",
       "      <td>17.565000</td>\n",
       "      <td>16.667500</td>\n",
       "      <td>38.357500</td>\n",
       "      <td>20.000000</td>\n",
       "      <td>150.020000</td>\n",
       "      <td>19.505000</td>\n",
       "      <td>2009.000000</td>\n",
       "    </tr>\n",
       "    <tr>\n",
       "      <th>50%</th>\n",
       "      <td>52.000000</td>\n",
       "      <td>61.000000</td>\n",
       "      <td>2798.000000</td>\n",
       "      <td>13.150000</td>\n",
       "      <td>5983.000000</td>\n",
       "      <td>40.415000</td>\n",
       "      <td>46.655000</td>\n",
       "      <td>88.180000</td>\n",
       "      <td>35.000000</td>\n",
       "      <td>254.820000</td>\n",
       "      <td>34.610000</td>\n",
       "      <td>2010.000000</td>\n",
       "    </tr>\n",
       "    <tr>\n",
       "      <th>75%</th>\n",
       "      <td>75.000000</td>\n",
       "      <td>74.000000</td>\n",
       "      <td>3285.000000</td>\n",
       "      <td>26.200000</td>\n",
       "      <td>9790.000000</td>\n",
       "      <td>89.252500</td>\n",
       "      <td>111.908750</td>\n",
       "      <td>202.310000</td>\n",
       "      <td>75.000000</td>\n",
       "      <td>417.987500</td>\n",
       "      <td>58.375000</td>\n",
       "      <td>2012.000000</td>\n",
       "    </tr>\n",
       "    <tr>\n",
       "      <th>max</th>\n",
       "      <td>99.000000</td>\n",
       "      <td>96.000000</td>\n",
       "      <td>4468.000000</td>\n",
       "      <td>207.440000</td>\n",
       "      <td>147262.000000</td>\n",
       "      <td>760.500000</td>\n",
       "      <td>2021.000000</td>\n",
       "      <td>2781.500000</td>\n",
       "      <td>300.000000</td>\n",
       "      <td>10175.850000</td>\n",
       "      <td>3373.000000</td>\n",
       "      <td>2013.000000</td>\n",
       "    </tr>\n",
       "  </tbody>\n",
       "</table>\n",
       "</div>"
      ],
      "text/plain": [
       "       RottenTomatoes  AudienceScore  TheatersOpenWeek  OpeningWeekend  \\\n",
       "count      913.000000     907.000000        949.000000      969.000000   \n",
       "mean        51.707558      61.271224       2495.246575       20.620826   \n",
       "std         26.821268      16.602457       1164.223356       25.338689   \n",
       "min          0.000000      19.000000          1.000000        0.010000   \n",
       "25%         28.000000      49.000000       2054.000000        5.300000   \n",
       "50%         52.000000      61.000000       2798.000000       13.150000   \n",
       "75%         75.000000      74.000000       3285.000000       26.200000   \n",
       "max         99.000000      96.000000       4468.000000      207.440000   \n",
       "\n",
       "       BOAvgOpenWeekend  DomesticGross  ForeignGross   WorldGross      Budget  \\\n",
       "count        945.000000     970.000000    876.000000   914.000000  897.000000   \n",
       "mean        8562.593651      68.162544    101.237419   169.009945   56.117168   \n",
       "std        10645.135565      80.409969    155.987696   227.744380   53.755914   \n",
       "min           28.000000       0.060000      0.000000     0.100000    0.000000   \n",
       "25%         3528.000000      17.565000     16.667500    38.357500   20.000000   \n",
       "50%         5983.000000      40.415000     46.655000    88.180000   35.000000   \n",
       "75%         9790.000000      89.252500    111.908750   202.310000   75.000000   \n",
       "max       147262.000000     760.500000   2021.000000  2781.500000  300.000000   \n",
       "\n",
       "       Profitability   OpenProfit         Year  \n",
       "count     896.000000   895.000000   970.000000  \n",
       "mean      384.620100    62.223575  2010.236082  \n",
       "std       631.666012   159.713218     1.954840  \n",
       "min         2.300000     0.160000  2007.000000  \n",
       "25%       150.020000    19.505000  2009.000000  \n",
       "50%       254.820000    34.610000  2010.000000  \n",
       "75%       417.987500    58.375000  2012.000000  \n",
       "max     10175.850000  3373.000000  2013.000000  "
      ]
     },
     "execution_count": 8,
     "metadata": {},
     "output_type": "execute_result"
    }
   ],
   "source": [
    "data.describe()"
   ]
  },
  {
   "cell_type": "code",
   "execution_count": 9,
   "id": "a0cd509c-d080-4844-8a8c-dba7677c694c",
   "metadata": {},
   "outputs": [],
   "source": [
    "# Data Cleaning"
   ]
  },
  {
   "cell_type": "code",
   "execution_count": 10,
   "id": "889f5b49-5e2e-43e7-ba7d-e80a6d77f1d8",
   "metadata": {},
   "outputs": [
    {
     "data": {
      "text/plain": [
       "Movie                 0\n",
       "LeadStudio            9\n",
       "RottenTomatoes       57\n",
       "AudienceScore        63\n",
       "Story               329\n",
       "Genre               279\n",
       "TheatersOpenWeek     21\n",
       "OpeningWeekend        1\n",
       "BOAvgOpenWeekend     25\n",
       "DomesticGross         0\n",
       "dtype: int64"
      ]
     },
     "execution_count": 10,
     "metadata": {},
     "output_type": "execute_result"
    }
   ],
   "source": [
    "# get the number of missing data points per column\n",
    "missing_values_count = data.isnull().sum()\n",
    "\n",
    "# look at the # of missing points in the first ten columns\n",
    "missing_values_count[0:10]"
   ]
  },
  {
   "cell_type": "code",
   "execution_count": 12,
   "id": "d9a4ae40-5e66-4a85-bc82-0f798f4f0e3d",
   "metadata": {},
   "outputs": [
    {
     "data": {
      "text/plain": [
       "Movie\n",
       "The Call                     2\n",
       "All About Steve              2\n",
       "Spider-Man 3                 1\n",
       "Your Highness                1\n",
       "Tinker Tailor Soldier Spy    1\n",
       "                            ..\n",
       "Saw VI                       1\n",
       "Dance Flick                  1\n",
       "The Fourth Kind              1\n",
       "The International            1\n",
       "Lovelace                     1\n",
       "Name: count, Length: 968, dtype: int64"
      ]
     },
     "execution_count": 12,
     "metadata": {},
     "output_type": "execute_result"
    }
   ],
   "source": [
    "# Assuming covid_filled is the DataFrame containing the hollywood movies dataset\n",
    "data_counts = data['Movie'].value_counts()\n",
    "data_counts"
   ]
  },
  {
   "cell_type": "code",
   "execution_count": 13,
   "id": "9f66f28d-a663-4b68-9fc0-097dde9dc6f9",
   "metadata": {},
   "outputs": [
    {
     "data": {
      "text/plain": [
       "LeadStudio\n",
       "Independent                 133\n",
       "Warner Bros                 114\n",
       "Sony                         98\n",
       "Fox                          91\n",
       "Universal                    85\n",
       "Paramount                    81\n",
       "Lionsgate                    40\n",
       "Weinstein                    39\n",
       "Disney                       39\n",
       "Summit                       33\n",
       "Relativity Media             30\n",
       "Buena Vista                  20\n",
       "Focus                        17\n",
       "Fox Searchlight              13\n",
       "CBS                          12\n",
       "Roadside Attractions          8\n",
       "DreamWorks                    8\n",
       "Open Road                     8\n",
       "FilmDistrict                  7\n",
       "TriStar                       6\n",
       "IFC                           6\n",
       "Magnolia                      6\n",
       "MGM                           5\n",
       "Miramax                       4\n",
       "Eros                          4\n",
       "Columbia                      3\n",
       "A24                           3\n",
       "Happy Madison                 3\n",
       "Spyglass Entertainment        3\n",
       "Samuel Goldwyn                3\n",
       "New Line                      3\n",
       "Screen Gems                   3\n",
       "Liberty Starz                 2\n",
       "Reliance                      2\n",
       "Legendary Pictures            2\n",
       "LD Entertainment              2\n",
       "ARC Entertainment             2\n",
       "Yash Raj                      2\n",
       "Millenium Entertainment       1\n",
       "Rocky Mountain                1\n",
       "Music Box Films               1\n",
       "Cohen Media                   1\n",
       "Cinedigm Entertainment        1\n",
       "Oscillloscope                 1\n",
       "Village Roadshow              1\n",
       "UTV                           1\n",
       "Atlas Distribution            1\n",
       "Entertainment One             1\n",
       "Virgin                        1\n",
       "Regency Enterprises           1\n",
       "Morgan Creek                  1\n",
       "Pixar                         1\n",
       "Aardman Animations            1\n",
       "Vertigo                       1\n",
       "Highlight Communications      1\n",
       "Crest                         1\n",
       "Overture                      1\n",
       "Mediaplex                     1\n",
       "Radius-TWC                    1\n",
       "Name: count, dtype: int64"
      ]
     },
     "execution_count": 13,
     "metadata": {},
     "output_type": "execute_result"
    }
   ],
   "source": [
    "# Assuming covid_filled is the DataFrame containing the hollywood movies dataset\n",
    "data_counts = data['LeadStudio'].value_counts()\n",
    "data_counts"
   ]
  },
  {
   "cell_type": "code",
   "execution_count": 14,
   "id": "293ac821-35d1-4e40-9484-16af2fdb4651",
   "metadata": {},
   "outputs": [
    {
     "data": {
      "text/plain": [
       "RottenTomatoes\n",
       "78.0    20\n",
       "93.0    17\n",
       "14.0    17\n",
       "27.0    16\n",
       "38.0    15\n",
       "        ..\n",
       "5.0      2\n",
       "3.0      2\n",
       "99.0     2\n",
       "0.0      1\n",
       "1.0      1\n",
       "Name: count, Length: 100, dtype: int64"
      ]
     },
     "execution_count": 14,
     "metadata": {},
     "output_type": "execute_result"
    }
   ],
   "source": [
    "# Assuming covid_filled is the DataFrame containing the hollywood movies dataset\n",
    "data_counts = data['RottenTomatoes'].value_counts()\n",
    "data_counts"
   ]
  },
  {
   "cell_type": "code",
   "execution_count": 15,
   "id": "9e5ce347-71e8-4997-a6e3-b05e10693969",
   "metadata": {},
   "outputs": [
    {
     "data": {
      "text/plain": [
       "AudienceScore\n",
       "73.0    28\n",
       "72.0    26\n",
       "57.0    24\n",
       "55.0    23\n",
       "56.0    23\n",
       "        ..\n",
       "26.0     1\n",
       "24.0     1\n",
       "19.0     1\n",
       "20.0     1\n",
       "96.0     1\n",
       "Name: count, Length: 73, dtype: int64"
      ]
     },
     "execution_count": 15,
     "metadata": {},
     "output_type": "execute_result"
    }
   ],
   "source": [
    "# Assuming covid_filled is the DataFrame containing the hollywood movies dataset\n",
    "data_counts = data['AudienceScore'].value_counts()\n",
    "data_counts"
   ]
  },
  {
   "cell_type": "code",
   "execution_count": 18,
   "id": "0ae3a8b5-9b15-4ba0-97aa-e119a21a6f72",
   "metadata": {},
   "outputs": [
    {
     "data": {
      "text/plain": [
       "Story\n",
       "Comedy                80\n",
       "Love                  64\n",
       "Monster Force         60\n",
       "Quest                 51\n",
       "Rivalry               33\n",
       "Discovery             31\n",
       "Pursuit               30\n",
       "Revenge               27\n",
       "Transformation        25\n",
       "Maturation            24\n",
       "Rescue                21\n",
       "Journey and Return    20\n",
       "The Riddle            19\n",
       "Escape                17\n",
       "Underdog              17\n",
       "Sacrifice             12\n",
       "Temptation            12\n",
       "Metamorphosis         10\n",
       "love                   9\n",
       "quest                  7\n",
       "Tragedy                7\n",
       "Fish Out Of Water      6\n",
       "escape                 6\n",
       "Wretched Excess        5\n",
       "pursuit                4\n",
       "rescue                 4\n",
       "fish out of water      4\n",
       "rivalry                4\n",
       "Rags to Riches         4\n",
       "sacrifice              4\n",
       "Fish Out of Water      4\n",
       "comedy                 4\n",
       "riddle                 3\n",
       "discovery              2\n",
       "monster force          2\n",
       "underdog               2\n",
       "maturation             2\n",
       "tragedy                1\n",
       "temptation             1\n",
       "transformation         1\n",
       "Rags To Riches         1\n",
       "journey & return       1\n",
       "Name: count, dtype: int64"
      ]
     },
     "execution_count": 18,
     "metadata": {},
     "output_type": "execute_result"
    }
   ],
   "source": [
    "# Assuming covid_filled is the DataFrame containing the hollywood movies dataset\n",
    "data_counts = data['Story'].value_counts()\n",
    "data_counts"
   ]
  },
  {
   "cell_type": "code",
   "execution_count": 17,
   "id": "fbf45f34-9851-45df-bca3-4f9f909a647d",
   "metadata": {},
   "outputs": [
    {
     "data": {
      "text/plain": [
       "Genre\n",
       "Comedy         177\n",
       "Action         166\n",
       "Drama          109\n",
       "Horror          52\n",
       "Animation       51\n",
       "Thriller        35\n",
       "Adventure       30\n",
       "Romance         20\n",
       "Crime           15\n",
       "Biography       14\n",
       "Documentary      7\n",
       "Fantasy          6\n",
       "Mystery          5\n",
       "Musical          4\n",
       "Name: count, dtype: int64"
      ]
     },
     "execution_count": 17,
     "metadata": {},
     "output_type": "execute_result"
    }
   ],
   "source": [
    "# Assuming covid_filled is the DataFrame containing the hollywood movies dataset\n",
    "data_counts = data['Genre'].value_counts()\n",
    "data_counts"
   ]
  },
  {
   "cell_type": "code",
   "execution_count": 22,
   "id": "84d0696f-24d0-49af-933b-5ec58245ee15",
   "metadata": {},
   "outputs": [
    {
     "data": {
      "text/plain": [
       "TheatersOpenWeek\n",
       "4.0       13\n",
       "2.0        7\n",
       "3.0        6\n",
       "2511.0     4\n",
       "3030.0     4\n",
       "          ..\n",
       "1856.0     1\n",
       "820.0      1\n",
       "2223.0     1\n",
       "1721.0     1\n",
       "118.0      1\n",
       "Name: count, Length: 789, dtype: int64"
      ]
     },
     "execution_count": 22,
     "metadata": {},
     "output_type": "execute_result"
    }
   ],
   "source": [
    "# Assuming covid_filled is the DataFrame containing the hollywood movies dataset\n",
    "data_counts = data['TheatersOpenWeek'].value_counts()\n",
    "data_counts"
   ]
  },
  {
   "cell_type": "code",
   "execution_count": 23,
   "id": "9e90fba3-bcb1-4083-9bf9-244c37373792",
   "metadata": {},
   "outputs": [
    {
     "data": {
      "text/plain": [
       "OpeningWeekend\n",
       "0.04      9\n",
       "0.11      8\n",
       "0.14      6\n",
       "0.07      6\n",
       "0.08      6\n",
       "         ..\n",
       "46.02     1\n",
       "40.67     1\n",
       "24.30     1\n",
       "24.80     1\n",
       "151.10    1\n",
       "Name: count, Length: 721, dtype: int64"
      ]
     },
     "execution_count": 23,
     "metadata": {},
     "output_type": "execute_result"
    }
   ],
   "source": [
    "# Assuming covid_filled is the DataFrame containing the hollywood movies dataset\n",
    "data_counts = data['OpeningWeekend'].value_counts()\n",
    "data_counts"
   ]
  },
  {
   "cell_type": "code",
   "execution_count": 24,
   "id": "6e2b7f71-599d-49dd-b29f-2c69932ca376",
   "metadata": {},
   "outputs": [
    {
     "data": {
      "text/plain": [
       "BOAvgOpenWeekend\n",
       "2615.0    3\n",
       "6828.0    2\n",
       "2995.0    2\n",
       "5427.0    2\n",
       "8502.0    2\n",
       "         ..\n",
       "3426.0    1\n",
       "3659.0    1\n",
       "3862.0    1\n",
       "2224.0    1\n",
       "1564.0    1\n",
       "Name: count, Length: 912, dtype: int64"
      ]
     },
     "execution_count": 24,
     "metadata": {},
     "output_type": "execute_result"
    }
   ],
   "source": [
    "# Assuming covid_filled is the DataFrame containing the hollywood movies dataset\n",
    "data_counts = data['BOAvgOpenWeekend'].value_counts()\n",
    "data_counts"
   ]
  },
  {
   "cell_type": "code",
   "execution_count": 34,
   "id": "9e183f61-4bea-4ba5-b4cf-17f6206572d5",
   "metadata": {},
   "outputs": [
    {
     "data": {
      "text/plain": [
       "DomesticGross\n",
       "3.09     2\n",
       "35.06    2\n",
       "21.30    2\n",
       "36.79    2\n",
       "25.93    2\n",
       "        ..\n",
       "28.60    1\n",
       "28.50    1\n",
       "27.69    1\n",
       "25.66    1\n",
       "0.36     1\n",
       "Name: count, Length: 935, dtype: int64"
      ]
     },
     "execution_count": 34,
     "metadata": {},
     "output_type": "execute_result"
    }
   ],
   "source": [
    "# Assuming covid_filled is the DataFrame containing the hollywood movies dataset\n",
    "data_counts = data['DomesticGross'].value_counts()\n",
    "data_counts"
   ]
  },
  {
   "cell_type": "code",
   "execution_count": 35,
   "id": "5292914b-ad1b-4226-8266-9c56799b58f8",
   "metadata": {},
   "outputs": [
    {
     "data": {
      "text/plain": [
       "ForeignGross\n",
       "0.03     3\n",
       "10.36    3\n",
       "22.21    2\n",
       "29.79    2\n",
       "19.90    2\n",
       "        ..\n",
       "46.97    1\n",
       "19.73    1\n",
       "49.19    1\n",
       "47.26    1\n",
       "1.17     1\n",
       "Name: count, Length: 842, dtype: int64"
      ]
     },
     "execution_count": 35,
     "metadata": {},
     "output_type": "execute_result"
    }
   ],
   "source": [
    "# Assuming covid_filled is the DataFrame containing the hollywood movies dataset\n",
    "data_counts = data['ForeignGross'].value_counts()\n",
    "data_counts"
   ]
  },
  {
   "cell_type": "code",
   "execution_count": 36,
   "id": "689f9379-b2f2-4480-88d8-286d82d83c4f",
   "metadata": {},
   "outputs": [
    {
     "data": {
      "text/plain": [
       "WorldGross\n",
       "1.10      2\n",
       "16.00     2\n",
       "35.49     2\n",
       "77.71     2\n",
       "46.22     2\n",
       "         ..\n",
       "76.51     1\n",
       "105.64    1\n",
       "90.80     1\n",
       "76.69     1\n",
       "1.52      1\n",
       "Name: count, Length: 899, dtype: int64"
      ]
     },
     "execution_count": 36,
     "metadata": {},
     "output_type": "execute_result"
    }
   ],
   "source": [
    "# Assuming covid_filled is the DataFrame containing the hollywood movies dataset\n",
    "data_counts = data['WorldGross'].value_counts()\n",
    "data_counts"
   ]
  },
  {
   "cell_type": "code",
   "execution_count": 37,
   "id": "599b605b-547d-4306-bee6-511a498ba6e6",
   "metadata": {},
   "outputs": [
    {
     "data": {
      "text/plain": [
       "Budget\n",
       "20.0     55\n",
       "30.0     46\n",
       "40.0     39\n",
       "35.0     37\n",
       "25.0     35\n",
       "         ..\n",
       "44.0      1\n",
       "112.0     1\n",
       "117.0     1\n",
       "260.0     1\n",
       "4.9       1\n",
       "Name: count, Length: 151, dtype: int64"
      ]
     },
     "execution_count": 37,
     "metadata": {},
     "output_type": "execute_result"
    }
   ],
   "source": [
    "# Assuming covid_filled is the DataFrame containing the hollywood movies dataset\n",
    "data_counts = data['Budget'].value_counts()\n",
    "data_counts"
   ]
  },
  {
   "cell_type": "code",
   "execution_count": 38,
   "id": "fd9f3cb7-ceaf-4806-b5a7-0819b7d8a388",
   "metadata": {},
   "outputs": [
    {
     "data": {
      "text/plain": [
       "Profitability\n",
       "331.00    2\n",
       "507.51    2\n",
       "254.82    2\n",
       "267.47    2\n",
       "350.57    2\n",
       "         ..\n",
       "103.92    1\n",
       "478.19    1\n",
       "150.91    1\n",
       "302.67    1\n",
       "15.25     1\n",
       "Name: count, Length: 883, dtype: int64"
      ]
     },
     "execution_count": 38,
     "metadata": {},
     "output_type": "execute_result"
    }
   ],
   "source": [
    "# Assuming covid_filled is the DataFrame containing the hollywood movies dataset\n",
    "data_counts = data['Profitability'].value_counts()\n",
    "data_counts"
   ]
  },
  {
   "cell_type": "code",
   "execution_count": 39,
   "id": "40a15f21-54f6-4d85-9f1a-177cb8d1e727",
   "metadata": {},
   "outputs": [
    {
     "data": {
      "text/plain": [
       "OpenProfit\n",
       "40.00     5\n",
       "25.00     4\n",
       "0.73      4\n",
       "16.00     4\n",
       "32.00     3\n",
       "         ..\n",
       "26.60     1\n",
       "14.33     1\n",
       "102.50    1\n",
       "19.66     1\n",
       "1.80      1\n",
       "Name: count, Length: 810, dtype: int64"
      ]
     },
     "execution_count": 39,
     "metadata": {},
     "output_type": "execute_result"
    }
   ],
   "source": [
    "# Assuming covid_filled is the DataFrame containing the hollywood movies dataset\n",
    "data_counts = data['OpenProfit'].value_counts()\n",
    "data_counts"
   ]
  },
  {
   "cell_type": "code",
   "execution_count": 40,
   "id": "54589a98-60e3-4efb-9829-5f2766d93bfa",
   "metadata": {},
   "outputs": [
    {
     "data": {
      "text/plain": [
       "Year\n",
       "2013    160\n",
       "2012    157\n",
       "2008    148\n",
       "2011    141\n",
       "2009    137\n",
       "2010    136\n",
       "2007     91\n",
       "Name: count, dtype: int64"
      ]
     },
     "execution_count": 40,
     "metadata": {},
     "output_type": "execute_result"
    }
   ],
   "source": [
    "# Assuming covid_filled is the DataFrame containing the hollywood movies dataset\n",
    "data_counts = data['Year'].value_counts()\n",
    "data_counts"
   ]
  },
  {
   "cell_type": "code",
   "execution_count": 47,
   "id": "28d8ee8b-a124-4586-9cfa-696e61a18a8a",
   "metadata": {},
   "outputs": [
    {
     "data": {
      "image/png": "[encoded data removed]",
      "text/plain": [
       "<Figure size 800x600 with 1 Axes>"
      ]
     },
     "metadata": {},
     "output_type": "display_data"
    }
   ],
   "source": [
    "import matplotlib.pyplot as plt\n",
    "\n",
    "# Sample data\n",
    "Movies = ['Spider-Man 3', 'Shrek the Third', 'Transformers', 'Lovelace']\n",
    "RottenTomatoes = [61, 42, 57, 78]\n",
    "# Sample viewship rates for each movie\n",
    "\n",
    "# Sorting data\n",
    "Movies.reverse()\n",
    "LeadStudio.sort(reverse=True)\n",
    "\n",
    "# Create x coordinates using indices of labels\n",
    "x = range(len(Movies))\n",
    "\n",
    "# Plot the funnel chart\n",
    "plt.figure(figsize=(8, 6))\n",
    "plt.barh(x,RottenTomatoes , color=[\"skyblue\", \"purple\", \"black\", \"green\"], alpha=0.6)\n",
    "\n",
    "# Add labels and title\n",
    "plt.yticks(x, Movies)  # Set y-axis labels to movie names\n",
    "plt.xlabel('Movies')\n",
    "plt.ylabel('RottenTomatoes')\n",
    "plt.title('Movie Funnel')\n",
    "\n",
    "# Show the plot\n",
    "plt.show()\n"
   ]
  },
  {
   "cell_type": "code",
   "execution_count": 9,
   "id": "7683836e-6d56-4702-8042-c2730fd228c0",
   "metadata": {},
   "outputs": [
    {
     "data": {
      "image/png": "[encoded data removed]",
      "text/plain": [
       "<Figure size 800x600 with 1 Axes>"
      ]
     },
     "metadata": {},
     "output_type": "display_data"
    }
   ],
   "source": [
    "import matplotlib.pyplot as plt\n",
    "\n",
    "# Sample data\n",
    "Movies = ['Ghost Rider', 'Shrek the Third', 'Superbad', 'Lovelace']\n",
    "RottenTomatoes = [61, 42, 57, 78]\n",
    "\n",
    "# Sorting data\n",
    "Movies.reverse()\n",
    "RottenTomatoes.reverse()\n",
    "\n",
    "# Plot the donut chart\n",
    "plt.figure(figsize=(8, 6))\n",
    "plt.pie(RottenTomatoes, labels=Movies, colors=[\"skyblue\", \"purple\", \"black\", \"green\"], autopct='%1.1f%%', startangle=90, wedgeprops=dict(width=0.3))\n",
    "\n",
    "# Add a circle at the center to make it a donut chart\n",
    "centre_circle = plt.Circle((0,0),0.70,fc='white')\n",
    "fig = plt.gcf()\n",
    "fig.gca().add_artist(centre_circle)\n",
    "\n",
    "# Equal aspect ratio ensures that pie is drawn as a circle\n",
    "plt.axis('equal')\n",
    "plt.title('Rotten Tomatoes Ratings')\n",
    "\n",
    "# Show the plot\n",
    "plt.show()\n"
   ]
  },
  {
   "cell_type": "code",
   "execution_count": 10,
   "id": "f72d3694-2059-4668-9a4a-3df88b3d1d36",
   "metadata": {},
   "outputs": [
    {
     "data": {
      "image/png": "[encoded data removed]",
      "text/plain": [
       "<Figure size 800x600 with 1 Axes>"
      ]
     },
     "metadata": {},
     "output_type": "display_data"
    }
   ],
   "source": [
    "import matplotlib.pyplot as plt\n",
    "\n",
    "# Sample data\n",
    "Movies = ['No Reservations', 'Shrek the Third', 'Michael Claytoan', 'The Kingdom']\n",
    "Story = ['Metamorphosis', 'Quest', 'Monster Force', 'Biography']\n",
    " # Sample viewship rates for each movie\n",
    "\n",
    "# Sorting data\n",
    "Movies.reverse()\n",
    "Story.sort(reverse=True)\n",
    "\n",
    "# Create x coordinates using indices of labels\n",
    "x = range(len(Movies))\n",
    "\n",
    "# Plot the scatter chart\n",
    "plt.figure(figsize=(8, 6))\n",
    "plt.scatter(x,Story , color=[\"skyblue\", \"purple\", \"black\", \"green\"], alpha=0.6)\n",
    "\n",
    "# Add labels and title\n",
    "plt.xticks(x, Movies)  # Set x-axis labels to movie names\n",
    "plt.xlabel('Movies')\n",
    "plt.ylabel('Story')\n",
    "plt.title('Movie Viewship Rates')\n",
    "\n",
    "# Show the plot\n",
    "plt.show()\n"
   ]
  },
  {
   "cell_type": "code",
   "execution_count": 11,
   "id": "23ab2b1c-80ff-436e-9603-febec94a900d",
   "metadata": {},
   "outputs": [
    {
     "data": {
      "image/png": "[encoded data removed]",
      "text/plain": [
       "<Figure size 1000x600 with 1 Axes>"
      ]
     },
     "metadata": {},
     "output_type": "display_data"
    }
   ],
   "source": [
    "import matplotlib.pyplot as plt\n",
    "\n",
    "# Sample data\n",
    "Movies = ['Stardust', 'Shrek the Thir', 'Zodiac', 'Nancy Drew']\n",
    "TheatersOpenWeek = [4252, 2122, 4011, 3445]\n",
    "\n",
    "# Sorting data\n",
    "Movies.reverse()\n",
    "TheatersOpenWeek.reverse()\n",
    "\n",
    "# Plot the area graph\n",
    "plt.figure(figsize=(10, 6))\n",
    "plt.fill_between(Movies, TheatersOpenWeek, color=\"Purple\", alpha=0.6)\n",
    "\n",
    "# Add labels and title\n",
    "plt.xlabel('Movies')\n",
    "plt.ylabel('Theaters Open Week')\n",
    "plt.title('Theaters Ope nWeek Over Time')\n",
    "\n",
    "# Show the plot\n",
    "plt.xticks(rotation=45)\n",
    "plt.tight_layout()\n",
    "plt.show()\n"
   ]
  },
  {
   "cell_type": "code",
   "execution_count": 12,
   "id": "5bc1e850-2b24-42f3-a44c-3a3a7d5851b8",
   "metadata": {},
   "outputs": [
    {
     "data": {
      "image/png": "[encoded data removed]",
      "text/plain": [
       "<Figure size 800x800 with 1 Axes>"
      ]
     },
     "metadata": {},
     "output_type": "display_data"
    }
   ],
   "source": [
    "import matplotlib.pyplot as plt\n",
    "\n",
    "# Sample data\n",
    "Movies = ['Spider-Man 3', 'Shrek the Third', 'Transformers', 'Grindhouse']\n",
    "DomesticGross = [336.53, 322.72, 319.25, 309.42]\n",
    "colors = ['skyblue', 'lightgreen', 'lightcoral', 'lightsalmon']\n",
    "\n",
    "# Plot the pie chart\n",
    "plt.figure(figsize=(8, 8))\n",
    "plt.pie(DomesticGross, labels=Movies, colors=colors, autopct='%1.1f%%', startangle=140)\n",
    "\n",
    "# Add title\n",
    "plt.title('Domestic Gross Ratings Distribution')\n",
    "\n",
    "# Equal aspect ratio ensures that pie is drawn as a circle\n",
    "plt.axis('equal')\n",
    "\n",
    "# Show the plot\n",
    "plt.tight_layout()\n",
    "plt.show()\n"
   ]
  },
  {
   "cell_type": "code",
   "execution_count": 16,
   "id": "17c14460-3615-45b8-80e2-30226485843c",
   "metadata": {},
   "outputs": [
    {
     "data": {
      "image/png": "[encoded data removed]",
      "text/plain": [
       "<Figure size 1000x600 with 1 Axes>"
      ]
     },
     "metadata": {},
     "output_type": "display_data"
    }
   ],
   "source": [
    "import matplotlib.pyplot as plt\n",
    "\n",
    "# Sample data\n",
    "Movies = ['Spider-Man 3', 'Shrek the Third', 'Transformers', 'Lovelace']\n",
    "WorldGross = [61, 42, 57, 78]  # Sample worldwide gross earnings in millions\n",
    "\n",
    "# Sorting data\n",
    "Movies.reverse()\n",
    "WorldGross.sort(reverse=True)\n",
    "\n",
    "# Create x coordinates using indices of labels\n",
    "x = range(len(Movies))\n",
    "\n",
    "# Plot the bar chart\n",
    "plt.figure(figsize=(10, 6))\n",
    "plt.bar(x, WorldGross, color=[\"gray\", \"orange\", \"black\", \"red\"], alpha=0.6)\n",
    "\n",
    "# Add labels and title\n",
    "plt.xticks(x, Movies)  # Set x-axis labels to movie names\n",
    "plt.ylabel('World Gross Earnings (Millions)')\n",
    "plt.title('World Gross Earnings of Movies')\n",
    "\n",
    "# Show the plot\n",
    "plt.tight_layout()\n",
    "plt.show()\n"
   ]
  },
  {
   "cell_type": "code",
   "execution_count": 20,
   "id": "c91da84a-ea8e-4466-8466-c09df685b5d6",
   "metadata": {},
   "outputs": [
    {
     "data": {
      "image/png": "[encoded data removed]",
      "text/plain": [
       "<Figure size 800x600 with 1 Axes>"
      ]
     },
     "metadata": {},
     "output_type": "display_data"
    }
   ],
   "source": [
    "import matplotlib.pyplot as plt\n",
    "\n",
    "# Sample data\n",
    "Movies = ['Stardust', 'Shrek the Thir', 'Zodiac', 'Nancy Drew']\n",
    " = [4252, 2122, 4011, 3445]\n",
    "\n",
    "# Plot the histogram\n",
    "plt.figure(figsize=(8, 6))\n",
    "plt.hist(movie_ratings, bins=10, color='black', edgecolor='purple', alpha=0.7)\n",
    "\n",
    "# Add labels and title\n",
    "plt.xlabel('Movie Ratings')\n",
    "plt.ylabel('Frequency')\n",
    "plt.title('Distribution of Movie Ratings')\n",
    "\n",
    "# Show the plot\n",
    "plt.grid(True)\n",
    "plt.tight_layout()\n",
    "plt.show()\n"
   ]
  },
  {
   "cell_type": "code",
   "execution_count": 25,
   "id": "3bd8f977-f7ce-4282-b4da-b72f53d61af6",
   "metadata": {},
   "outputs": [
    {
     "data": {
      "image/png": "[encoded data removed]",
      "text/plain": [
       "<Figure size 800x600 with 1 Axes>"
      ]
     },
     "metadata": {},
     "output_type": "display_data"
    }
   ],
   "source": [
    "import matplotlib.pyplot as plt\n",
    "\n",
    "# Sample data\n",
    "Movies = ['Spider-Man 3', 'Shrek the Third', 'Transformers', 'Grindhouse']\n",
    "DomesticGross = [336.53, 122.72, 319.25, 509.42]\n",
    "\n",
    "# Count the frequency of each rating\n",
    "rating_counts = {}\n",
    "for rating in movie_ratings:\n",
    "    if rating in rating_counts:\n",
    "        rating_counts[rating] += 1\n",
    "    else:\n",
    "        rating_counts[rating] = 1\n",
    "\n",
    "ratings = list(rating_counts.keys())\n",
    "counts = list(rating_counts.values())\n",
    "\n",
    "# Plot the bar graph\n",
    "plt.figure(figsize=(8, 6))\n",
    "plt.bar(ratings, counts, color='green', edgecolor='black', alpha=0.7)\n",
    "\n",
    "# Add labels and title\n",
    "plt.xlabel('Movies')\n",
    "plt.ylabel('DomesticGross')\n",
    "plt.title('Frequency of Movie Ratings')\n",
    "\n",
    "# Show the plot\n",
    "plt.grid(True)\n",
    "plt.tight_layout()\n",
    "plt.show()\n"
   ]
  },
  {
   "cell_type": "code",
   "execution_count": null,
   "id": "c4177213-f34f-4240-9116-05ff1ec1f4f2",
   "metadata": {},
   "outputs": [],
   "source": []
  }
 ],
 "metadata": {
  "kernelspec": {
   "display_name": "Python 3 (ipykernel)",
   "language": "python",
   "name": "python3"
  },
  "language_info": {
   "codemirror_mode": {
    "name": "ipython",
    "version": 3
   },
   "file_extension": ".py",
   "mimetype": "text/x-python",
   "name": "python",
   "nbconvert_exporter": "python",
   "pygments_lexer": "ipython3",
   "version": "3.12.2"
  }
 },
 "nbformat": 4,
 "nbformat_minor": 5
}
